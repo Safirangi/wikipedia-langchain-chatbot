{
 "cells": [
  {
   "cell_type": "markdown",
   "id": "79a3f6a4-8348-4cd6-a336-10ecb9cfaaa3",
   "metadata": {},
   "source": [
    "## WIKIPEDIA CONVERSATIONAL AGENT"
   ]
  },
  {
   "cell_type": "code",
   "execution_count": 13,
   "id": "36261434-a96c-49e8-ad41-918d14da089a",
   "metadata": {
    "height": 116,
    "tags": []
   },
   "outputs": [],
   "source": [
    "import os\n",
    "import openai\n",
    "\n",
    "from dotenv import load_dotenv, find_dotenv\n",
    "_ = load_dotenv(find_dotenv()) # read local .env file\n",
    "openai.api_key = os.environ['OPENAI_API_KEY']"
   ]
  },
  {
   "cell_type": "code",
   "execution_count": 14,
   "id": "20f44fbb-6708-4fce-bac4-55dc261e3a2d",
   "metadata": {
    "height": 31
   },
   "outputs": [],
   "source": [
    "from langchain.tools import tool"
   ]
  },
  {
   "cell_type": "markdown",
   "id": "5224d521",
   "metadata": {},
   "source": [
    "### WIKIPEDIA LIBRARY\n",
    "\n",
    "- python's wikipedia library wraps official wikipedia API called MediaWiki API (https://www.mediawiki.org/wiki/API) \n",
    "- installation by Wikipedia API\n",
    "- wikipedia.summary(title, sentences) - number of sentences in result, returns the result in string format\n",
    "- wikipedia.search(title, result) - number of results, returns list of titles\n",
    "- wikipedia.page(title) - this method is used to get content, categories, coordinates, images, links and metadata -> returns WikipediaPage object\n",
    "- \"summary\" attribute of page() is used to obtain the plain text summary of that particular topic"
   ]
  },
  {
   "cell_type": "code",
   "execution_count": 15,
   "id": "3ac0a1e7-567f-4775-a538-351a5ff099e8",
   "metadata": {
    "height": 337
   },
   "outputs": [],
   "source": [
    "import wikipedia\n",
    "\n",
    "@tool\n",
    "def search_wikipedia(query: str) -> str:\n",
    "    \"\"\"Run Wikipedia search and get page summaries.\"\"\"\n",
    "    page_titles = wikipedia.search(query)\n",
    "    summaries = []\n",
    "    for page_title in page_titles[: 3]:\n",
    "        try:\n",
    "            wiki_page =  wikipedia.page(title=page_title, auto_suggest=False)\n",
    "            summaries.append(f\"Page: {page_title}\\nSummary: {wiki_page.summary}\")\n",
    "        except (\n",
    "            self.wiki_client.exceptions.PageError,\n",
    "            self.wiki_client.exceptions.DisambiguationError,\n",
    "        ):\n",
    "            pass\n",
    "    if not summaries:\n",
    "        return \"No good Wikipedia Search Result was found\"\n",
    "    return \"\\n\\n\".join(summaries)"
   ]
  },
  {
   "cell_type": "code",
   "execution_count": 16,
   "id": "4856d233-0916-4b97-8a7c-b494d5f2b8e0",
   "metadata": {
    "height": 31
   },
   "outputs": [],
   "source": [
    "tools = [search_wikipedia]"
   ]
  },
  {
   "cell_type": "code",
   "execution_count": 17,
   "id": "cdf0d789-559b-42df-9d6d-77a0cd8888d6",
   "metadata": {
    "height": 82
   },
   "outputs": [],
   "source": [
    "from langchain.chat_models import ChatOpenAI\n",
    "from langchain.prompts import ChatPromptTemplate\n",
    "from langchain.tools.render import format_tool_to_openai_function\n",
    "from langchain.agents.output_parsers import OpenAIFunctionsAgentOutputParser"
   ]
  },
  {
   "cell_type": "code",
   "execution_count": 18,
   "id": "933ce7cb-099c-4f43-a548-b355a5b66511",
   "metadata": {
    "height": 65
   },
   "outputs": [],
   "source": [
    "functions = [format_tool_to_openai_function(f) for f in tools]\n",
    "\n",
    "model = ChatOpenAI(temperature=0).bind(functions=functions)"
   ]
  },
  {
   "cell_type": "code",
   "execution_count": 19,
   "id": "61853679-75b5-4462-8059-f1214286a9eb",
   "metadata": {
    "height": 31
   },
   "outputs": [],
   "source": [
    "from langchain.agents.format_scratchpad import format_to_openai_functions"
   ]
  },
  {
   "cell_type": "code",
   "execution_count": 37,
   "id": "c03bd906",
   "metadata": {
    "height": 148
   },
   "outputs": [],
   "source": [
    "from langchain.prompts import MessagesPlaceholder\n",
    "prompt = ChatPromptTemplate.from_messages([\n",
    "    (\"system\", \"You are a friendly wikipedia bot that can tell details and answer questions about anything the user asks using information from wikipedia\"),\n",
    "    MessagesPlaceholder(variable_name=\"chat_history\"),\n",
    "    (\"user\", \"{input}\"),\n",
    "    MessagesPlaceholder(variable_name=\"agent_scratchpad\")\n",
    "])"
   ]
  },
  {
   "cell_type": "code",
   "execution_count": 38,
   "id": "8617cc60",
   "metadata": {
    "height": 82
   },
   "outputs": [],
   "source": [
    "from langchain.schema.runnable import RunnablePassthrough\n",
    "agent_chain = RunnablePassthrough.assign(\n",
    "    agent_scratchpad= lambda x: format_to_openai_functions(x[\"intermediate_steps\"])\n",
    ") | prompt | model | OpenAIFunctionsAgentOutputParser()"
   ]
  },
  {
   "cell_type": "code",
   "execution_count": 39,
   "id": "a3865c2c-cb80-4341-bcbe-3b5150749622",
   "metadata": {
    "height": 48
   },
   "outputs": [],
   "source": [
    "from langchain.memory import ConversationBufferMemory\n",
    "memory = ConversationBufferMemory(return_messages=True,memory_key=\"chat_history\")"
   ]
  },
  {
   "cell_type": "code",
   "execution_count": 40,
   "id": "9cdff266",
   "metadata": {
    "height": 48
   },
   "outputs": [],
   "source": [
    "from langchain.agents import AgentExecutor\n",
    "agent_executor = AgentExecutor(agent=agent_chain, tools=tools, verbose=True, memory=memory)"
   ]
  },
  {
   "cell_type": "code",
   "execution_count": 41,
   "id": "37f70acf-57ff-4ab9-a942-f0ad6e680c40",
   "metadata": {
    "height": 31
   },
   "outputs": [
    {
     "name": "stdout",
     "output_type": "stream",
     "text": [
      "\n",
      "\n",
      "\u001b[1m> Entering new AgentExecutor chain...\u001b[0m\n",
      "\u001b[32;1m\u001b[1;3mHello Bob! How can I assist you today?\u001b[0m\n",
      "\n",
      "\u001b[1m> Finished chain.\u001b[0m\n"
     ]
    },
    {
     "data": {
      "text/plain": [
       "{'input': 'my name is bob',\n",
       " 'chat_history': [HumanMessage(content='my name is bob'),\n",
       "  AIMessage(content='Hello Bob! How can I assist you today?')],\n",
       " 'output': 'Hello Bob! How can I assist you today?'}"
      ]
     },
     "execution_count": 41,
     "metadata": {},
     "output_type": "execute_result"
    }
   ],
   "source": [
    "agent_executor.invoke({\"input\": \"my name is bob\"})"
   ]
  },
  {
   "cell_type": "code",
   "execution_count": 42,
   "id": "a1554b0c-8c72-4d8d-bbed-20afd94828c5",
   "metadata": {
    "height": 31
   },
   "outputs": [
    {
     "name": "stdout",
     "output_type": "stream",
     "text": [
      "\n",
      "\n",
      "\u001b[1m> Entering new AgentExecutor chain...\u001b[0m\n",
      "\u001b[32;1m\u001b[1;3mYour name is Bob. How can I assist you today, Bob?\u001b[0m\n",
      "\n",
      "\u001b[1m> Finished chain.\u001b[0m\n"
     ]
    },
    {
     "data": {
      "text/plain": [
       "{'input': 'whats my name',\n",
       " 'chat_history': [HumanMessage(content='my name is bob'),\n",
       "  AIMessage(content='Hello Bob! How can I assist you today?'),\n",
       "  HumanMessage(content='whats my name'),\n",
       "  AIMessage(content='Your name is Bob. How can I assist you today, Bob?')],\n",
       " 'output': 'Your name is Bob. How can I assist you today, Bob?'}"
      ]
     },
     "execution_count": 42,
     "metadata": {},
     "output_type": "execute_result"
    }
   ],
   "source": [
    "agent_executor.invoke({\"input\": \"whats my name\"})"
   ]
  },
  {
   "cell_type": "code",
   "execution_count": 43,
   "id": "40887f61-6746-4e51-852d-5ff0457384b7",
   "metadata": {
    "height": 31
   },
   "outputs": [
    {
     "name": "stdout",
     "output_type": "stream",
     "text": [
      "\n",
      "\n",
      "\u001b[1m> Entering new AgentExecutor chain...\u001b[0m\n",
      "\u001b[32;1m\u001b[1;3m\n",
      "Invoking: `search_wikipedia` with `{'query': 'Artemis I mission'}`\n",
      "\n",
      "\n",
      "\u001b[0m\u001b[36;1m\u001b[1;3mPage: List of Artemis missions\n",
      "Summary: The Artemis program is a human spaceflight program by the United States. The Artemis program is intended to reestablish a human presence on the Moon for the first time since Apollo 17 in 1972; mid-term objectives include establishing an international expedition team, and a sustainable human presence on the Moon. Long-term objectives for Artemis are laying the foundations for the extraction of lunar resources, and eventually making crewed missions to Mars and beyond feasible.\n",
      "To date, missions in the program are aimed at exploration of the Moon, including crewed and robotic exploration of the lunar surface. Three flights of the Orion Multi-Purpose Crew Vehicle are currently planned for launch in the Artemis program in the early 2020s, beginning with Artemis 1. Before Artemis was named, the flights were referred to as \"Orion missions\". Numerous supporting scientific and technology demonstration missions are planned for launch under the program's Commercial Lunar Payload Services (CLPS), in addition to planned and proposed uncrewed logistical missions to construct and resupply the Gateway and its expendable and reusable lunar landers in lunar orbit.\n",
      "\n",
      "Page: Artemis 1\n",
      "Summary: Artemis 1, officially Artemis I and formerly Exploration Mission-1 (EM-1), was an uncrewed Moon-orbiting mission. As the first major spaceflight of NASA's Artemis program, Artemis 1 marked the agency's return to lunar exploration after the conclusion of the Apollo program five decades earlier. It was the first integrated flight test of the Orion spacecraft and Space Launch System (SLS) rocket, and its main objective was to test the Orion spacecraft, especially its heat shield, in preparation for subsequent Artemis missions. These missions seek to reestablish a human presence on the Moon and demonstrate technologies and business approaches needed for future scientific studies, including exploration of Mars.\n",
      "The Orion spacecraft for Artemis 1 was stacked on October 20, 2021, and on August 17, 2022, the fully stacked vehicle was rolled out for launch after a series of delays caused by difficulties in pre-flight testing. The first two launch attempts were canceled due to a faulty engine temperature reading on August 29, 2022, and a hydrogen leak during fueling on September 3, 2022. Artemis 1 was launched on November 16, 2022, at 06:47:44 UTC (01:47:44 EST).\n",
      "Artemis 1 was launched from Launch Complex 39B at the Kennedy Space Center. After reaching Earth orbit, the upper stage carrying the Orion spacecraft separated and performed a trans-lunar injection before releasing Orion and deploying ten CubeSat satellites. Orion completed one flyby of the Moon on November 21, entered a distant retrograde orbit for six days, and completed a second flyby of the Moon on December 5.\n",
      "The Orion spacecraft then returned and reentered the Earth's atmosphere with the protection of its heat shield, splashing down in the Pacific Ocean on December 11. The mission aims to certify Orion and the Space Launch System for crewed flights beginning with Artemis 2, which is scheduled to perform a crewed lunar flyby no earlier than September 2025. After Artemis 2, Artemis 3 will involve a crewed lunar landing, the first in five decades since Apollo 17.\n",
      "\n",
      "Page: Artemis 2\n",
      "Summary: Artemis 2 (officially Artemis II) is a scheduled mission of the NASA-led Artemis program. It will use the second launch of the Space Launch System (SLS) and include the first crewed mission of the Orion spacecraft. The mission is scheduled for no earlier than September 2025. Four astronauts will perform a flyby of the Moon and return to Earth, becoming the first crew to travel beyond low Earth orbit since Apollo 17 in 1972. Artemis 2 will be the first crewed launch from Launch Complex 39B of the Kennedy Space Center since STS-116 in 2006.\n",
      "Originally designated Exploration Mission-2 (EM-2), the mission was intended to collect samples from a captured asteroid in lunar orbit by the now-cancelled robotic Asteroid Redirect Mission; it was renamed after the introduction of the Artemis program.\u001b[0m\u001b[32;1m\u001b[1;3mArtemis 1, officially known as Artemis I and formerly Exploration Mission-1 (EM-1), was an uncrewed Moon-orbiting mission that marked NASA's return to lunar exploration after the conclusion of the Apollo program. It was the first integrated flight test of the Orion spacecraft and Space Launch System (SLS) rocket. The main objective of Artemis 1 was to test the Orion spacecraft, especially its heat shield, in preparation for subsequent Artemis missions. The mission aimed to reestablish a human presence on the Moon and demonstrate technologies needed for future scientific studies, including exploration of Mars.\n",
      "\n",
      "Artemis 1 was launched on November 16, 2022, from Launch Complex 39B at the Kennedy Space Center. After reaching Earth orbit, the upper stage carrying the Orion spacecraft separated and performed a trans-lunar injection before releasing Orion and deploying ten CubeSat satellites. Orion completed two flybys of the Moon before returning to Earth and splashing down in the Pacific Ocean on December 11. The success of Artemis 1 paves the way for crewed flights, starting with Artemis 2, which is scheduled for no earlier than September 2025. Artemis 3 will involve a crewed lunar landing, the first in five decades since Apollo 17.\u001b[0m\n",
      "\n",
      "\u001b[1m> Finished chain.\u001b[0m\n"
     ]
    },
    {
     "data": {
      "text/plain": [
       "{'input': 'what is artemis 1 mission?',\n",
       " 'chat_history': [HumanMessage(content='my name is bob'),\n",
       "  AIMessage(content='Hello Bob! How can I assist you today?'),\n",
       "  HumanMessage(content='whats my name'),\n",
       "  AIMessage(content='Your name is Bob. How can I assist you today, Bob?'),\n",
       "  HumanMessage(content='what is artemis 1 mission?'),\n",
       "  AIMessage(content=\"Artemis 1, officially known as Artemis I and formerly Exploration Mission-1 (EM-1), was an uncrewed Moon-orbiting mission that marked NASA's return to lunar exploration after the conclusion of the Apollo program. It was the first integrated flight test of the Orion spacecraft and Space Launch System (SLS) rocket. The main objective of Artemis 1 was to test the Orion spacecraft, especially its heat shield, in preparation for subsequent Artemis missions. The mission aimed to reestablish a human presence on the Moon and demonstrate technologies needed for future scientific studies, including exploration of Mars.\\n\\nArtemis 1 was launched on November 16, 2022, from Launch Complex 39B at the Kennedy Space Center. After reaching Earth orbit, the upper stage carrying the Orion spacecraft separated and performed a trans-lunar injection before releasing Orion and deploying ten CubeSat satellites. Orion completed two flybys of the Moon before returning to Earth and splashing down in the Pacific Ocean on December 11. The success of Artemis 1 paves the way for crewed flights, starting with Artemis 2, which is scheduled for no earlier than September 2025. Artemis 3 will involve a crewed lunar landing, the first in five decades since Apollo 17.\")],\n",
       " 'output': \"Artemis 1, officially known as Artemis I and formerly Exploration Mission-1 (EM-1), was an uncrewed Moon-orbiting mission that marked NASA's return to lunar exploration after the conclusion of the Apollo program. It was the first integrated flight test of the Orion spacecraft and Space Launch System (SLS) rocket. The main objective of Artemis 1 was to test the Orion spacecraft, especially its heat shield, in preparation for subsequent Artemis missions. The mission aimed to reestablish a human presence on the Moon and demonstrate technologies needed for future scientific studies, including exploration of Mars.\\n\\nArtemis 1 was launched on November 16, 2022, from Launch Complex 39B at the Kennedy Space Center. After reaching Earth orbit, the upper stage carrying the Orion spacecraft separated and performed a trans-lunar injection before releasing Orion and deploying ten CubeSat satellites. Orion completed two flybys of the Moon before returning to Earth and splashing down in the Pacific Ocean on December 11. The success of Artemis 1 paves the way for crewed flights, starting with Artemis 2, which is scheduled for no earlier than September 2025. Artemis 3 will involve a crewed lunar landing, the first in five decades since Apollo 17.\"}"
      ]
     },
     "execution_count": 43,
     "metadata": {},
     "output_type": "execute_result"
    }
   ],
   "source": [
    "agent_executor.invoke({\"input\": \"what is artemis 1 mission?\"})"
   ]
  },
  {
   "cell_type": "code",
   "execution_count": 44,
   "id": "72ba4d1e",
   "metadata": {
    "height": 31
   },
   "outputs": [
    {
     "name": "stdout",
     "output_type": "stream",
     "text": [
      "\n",
      "\n",
      "\u001b[1m> Entering new AgentExecutor chain...\u001b[0m\n",
      "\u001b[32;1m\u001b[1;3mArtemis 1, also known as Exploration Mission-1 (EM-1), was launched on November 16, 2022.\u001b[0m\n",
      "\n",
      "\u001b[1m> Finished chain.\u001b[0m\n"
     ]
    },
    {
     "data": {
      "text/plain": [
       "{'input': 'when was it launched?',\n",
       " 'chat_history': [HumanMessage(content='my name is bob'),\n",
       "  AIMessage(content='Hello Bob! How can I assist you today?'),\n",
       "  HumanMessage(content='whats my name'),\n",
       "  AIMessage(content='Your name is Bob. How can I assist you today, Bob?'),\n",
       "  HumanMessage(content='what is artemis 1 mission?'),\n",
       "  AIMessage(content=\"Artemis 1, officially known as Artemis I and formerly Exploration Mission-1 (EM-1), was an uncrewed Moon-orbiting mission that marked NASA's return to lunar exploration after the conclusion of the Apollo program. It was the first integrated flight test of the Orion spacecraft and Space Launch System (SLS) rocket. The main objective of Artemis 1 was to test the Orion spacecraft, especially its heat shield, in preparation for subsequent Artemis missions. The mission aimed to reestablish a human presence on the Moon and demonstrate technologies needed for future scientific studies, including exploration of Mars.\\n\\nArtemis 1 was launched on November 16, 2022, from Launch Complex 39B at the Kennedy Space Center. After reaching Earth orbit, the upper stage carrying the Orion spacecraft separated and performed a trans-lunar injection before releasing Orion and deploying ten CubeSat satellites. Orion completed two flybys of the Moon before returning to Earth and splashing down in the Pacific Ocean on December 11. The success of Artemis 1 paves the way for crewed flights, starting with Artemis 2, which is scheduled for no earlier than September 2025. Artemis 3 will involve a crewed lunar landing, the first in five decades since Apollo 17.\"),\n",
       "  HumanMessage(content='when was it launched?'),\n",
       "  AIMessage(content='Artemis 1, also known as Exploration Mission-1 (EM-1), was launched on November 16, 2022.')],\n",
       " 'output': 'Artemis 1, also known as Exploration Mission-1 (EM-1), was launched on November 16, 2022.'}"
      ]
     },
     "execution_count": 44,
     "metadata": {},
     "output_type": "execute_result"
    }
   ],
   "source": [
    "agent_executor.invoke({\"input\": \"when was it launched?\"})"
   ]
  },
  {
   "cell_type": "code",
   "execution_count": 45,
   "id": "035f2e8e",
   "metadata": {
    "height": 31
   },
   "outputs": [
    {
     "name": "stdout",
     "output_type": "stream",
     "text": [
      "\n",
      "\n",
      "\u001b[1m> Entering new AgentExecutor chain...\u001b[0m\n",
      "\u001b[32;1m\u001b[1;3mThe next phase in the Artemis mission series is Artemis 2. Artemis 2 will be a crewed mission that follows the uncrewed Artemis 1 mission. The main objective of Artemis 2 is to send astronauts on a mission around the Moon. This mission will serve as a test for the Orion spacecraft and the Space Launch System (SLS) rocket with a crew on board. Artemis 2 is scheduled for launch no earlier than September 2025. Following Artemis 2, the Artemis 3 mission is planned to be the first crewed lunar landing mission since the Apollo program.\u001b[0m\n",
      "\n",
      "\u001b[1m> Finished chain.\u001b[0m\n"
     ]
    },
    {
     "data": {
      "text/plain": [
       "{'input': 'what is the next phase in the mission?',\n",
       " 'chat_history': [HumanMessage(content='my name is bob'),\n",
       "  AIMessage(content='Hello Bob! How can I assist you today?'),\n",
       "  HumanMessage(content='whats my name'),\n",
       "  AIMessage(content='Your name is Bob. How can I assist you today, Bob?'),\n",
       "  HumanMessage(content='what is artemis 1 mission?'),\n",
       "  AIMessage(content=\"Artemis 1, officially known as Artemis I and formerly Exploration Mission-1 (EM-1), was an uncrewed Moon-orbiting mission that marked NASA's return to lunar exploration after the conclusion of the Apollo program. It was the first integrated flight test of the Orion spacecraft and Space Launch System (SLS) rocket. The main objective of Artemis 1 was to test the Orion spacecraft, especially its heat shield, in preparation for subsequent Artemis missions. The mission aimed to reestablish a human presence on the Moon and demonstrate technologies needed for future scientific studies, including exploration of Mars.\\n\\nArtemis 1 was launched on November 16, 2022, from Launch Complex 39B at the Kennedy Space Center. After reaching Earth orbit, the upper stage carrying the Orion spacecraft separated and performed a trans-lunar injection before releasing Orion and deploying ten CubeSat satellites. Orion completed two flybys of the Moon before returning to Earth and splashing down in the Pacific Ocean on December 11. The success of Artemis 1 paves the way for crewed flights, starting with Artemis 2, which is scheduled for no earlier than September 2025. Artemis 3 will involve a crewed lunar landing, the first in five decades since Apollo 17.\"),\n",
       "  HumanMessage(content='when was it launched?'),\n",
       "  AIMessage(content='Artemis 1, also known as Exploration Mission-1 (EM-1), was launched on November 16, 2022.'),\n",
       "  HumanMessage(content='what is the next phase in the mission?'),\n",
       "  AIMessage(content='The next phase in the Artemis mission series is Artemis 2. Artemis 2 will be a crewed mission that follows the uncrewed Artemis 1 mission. The main objective of Artemis 2 is to send astronauts on a mission around the Moon. This mission will serve as a test for the Orion spacecraft and the Space Launch System (SLS) rocket with a crew on board. Artemis 2 is scheduled for launch no earlier than September 2025. Following Artemis 2, the Artemis 3 mission is planned to be the first crewed lunar landing mission since the Apollo program.')],\n",
       " 'output': 'The next phase in the Artemis mission series is Artemis 2. Artemis 2 will be a crewed mission that follows the uncrewed Artemis 1 mission. The main objective of Artemis 2 is to send astronauts on a mission around the Moon. This mission will serve as a test for the Orion spacecraft and the Space Launch System (SLS) rocket with a crew on board. Artemis 2 is scheduled for launch no earlier than September 2025. Following Artemis 2, the Artemis 3 mission is planned to be the first crewed lunar landing mission since the Apollo program.'}"
      ]
     },
     "execution_count": 45,
     "metadata": {},
     "output_type": "execute_result"
    }
   ],
   "source": [
    "agent_executor.invoke({\"input\": \"what is the next phase in the mission?\"})"
   ]
  },
  {
   "cell_type": "code",
   "execution_count": 46,
   "id": "4c9aa746",
   "metadata": {
    "height": 31
   },
   "outputs": [
    {
     "name": "stdout",
     "output_type": "stream",
     "text": [
      "\n",
      "\n",
      "\u001b[1m> Entering new AgentExecutor chain...\u001b[0m\n",
      "\u001b[32;1m\u001b[1;3mArtemis 2, the crewed mission around the Moon, is scheduled for launch no earlier than September 2025. The exact date may be subject to change based on mission planning and development.\u001b[0m\n",
      "\n",
      "\u001b[1m> Finished chain.\u001b[0m\n"
     ]
    },
    {
     "data": {
      "text/plain": [
       "{'input': 'when is that happening?',\n",
       " 'chat_history': [HumanMessage(content='my name is bob'),\n",
       "  AIMessage(content='Hello Bob! How can I assist you today?'),\n",
       "  HumanMessage(content='whats my name'),\n",
       "  AIMessage(content='Your name is Bob. How can I assist you today, Bob?'),\n",
       "  HumanMessage(content='what is artemis 1 mission?'),\n",
       "  AIMessage(content=\"Artemis 1, officially known as Artemis I and formerly Exploration Mission-1 (EM-1), was an uncrewed Moon-orbiting mission that marked NASA's return to lunar exploration after the conclusion of the Apollo program. It was the first integrated flight test of the Orion spacecraft and Space Launch System (SLS) rocket. The main objective of Artemis 1 was to test the Orion spacecraft, especially its heat shield, in preparation for subsequent Artemis missions. The mission aimed to reestablish a human presence on the Moon and demonstrate technologies needed for future scientific studies, including exploration of Mars.\\n\\nArtemis 1 was launched on November 16, 2022, from Launch Complex 39B at the Kennedy Space Center. After reaching Earth orbit, the upper stage carrying the Orion spacecraft separated and performed a trans-lunar injection before releasing Orion and deploying ten CubeSat satellites. Orion completed two flybys of the Moon before returning to Earth and splashing down in the Pacific Ocean on December 11. The success of Artemis 1 paves the way for crewed flights, starting with Artemis 2, which is scheduled for no earlier than September 2025. Artemis 3 will involve a crewed lunar landing, the first in five decades since Apollo 17.\"),\n",
       "  HumanMessage(content='when was it launched?'),\n",
       "  AIMessage(content='Artemis 1, also known as Exploration Mission-1 (EM-1), was launched on November 16, 2022.'),\n",
       "  HumanMessage(content='what is the next phase in the mission?'),\n",
       "  AIMessage(content='The next phase in the Artemis mission series is Artemis 2. Artemis 2 will be a crewed mission that follows the uncrewed Artemis 1 mission. The main objective of Artemis 2 is to send astronauts on a mission around the Moon. This mission will serve as a test for the Orion spacecraft and the Space Launch System (SLS) rocket with a crew on board. Artemis 2 is scheduled for launch no earlier than September 2025. Following Artemis 2, the Artemis 3 mission is planned to be the first crewed lunar landing mission since the Apollo program.'),\n",
       "  HumanMessage(content='when is that happening?'),\n",
       "  AIMessage(content='Artemis 2, the crewed mission around the Moon, is scheduled for launch no earlier than September 2025. The exact date may be subject to change based on mission planning and development.')],\n",
       " 'output': 'Artemis 2, the crewed mission around the Moon, is scheduled for launch no earlier than September 2025. The exact date may be subject to change based on mission planning and development.'}"
      ]
     },
     "execution_count": 46,
     "metadata": {},
     "output_type": "execute_result"
    }
   ],
   "source": [
    "agent_executor.invoke({\"input\": \"when is that happening?\"})"
   ]
  },
  {
   "cell_type": "code",
   "execution_count": 47,
   "id": "9d771306",
   "metadata": {
    "height": 31
   },
   "outputs": [
    {
     "name": "stdout",
     "output_type": "stream",
     "text": [
      "\n",
      "\n",
      "\u001b[1m> Entering new AgentExecutor chain...\u001b[0m\n",
      "\u001b[32;1m\u001b[1;3m\n",
      "Invoking: `search_wikipedia` with `{'query': 'Artemis 2'}`\n",
      "\n",
      "\n",
      "\u001b[0m\u001b[36;1m\u001b[1;3mPage: Artemis 2\n",
      "Summary: Artemis 2 (officially Artemis II) is a scheduled mission of the NASA-led Artemis program. It will use the second launch of the Space Launch System (SLS) and include the first crewed mission of the Orion spacecraft. The mission is scheduled for no earlier than September 2025. Four astronauts will perform a flyby of the Moon and return to Earth, becoming the first crew to travel beyond low Earth orbit since Apollo 17 in 1972. Artemis 2 will be the first crewed launch from Launch Complex 39B of the Kennedy Space Center since STS-116 in 2006.\n",
      "Originally designated Exploration Mission-2 (EM-2), the mission was intended to collect samples from a captured asteroid in lunar orbit by the now-cancelled robotic Asteroid Redirect Mission; it was renamed after the introduction of the Artemis program.\n",
      "\n",
      "Page: Artemis program\n",
      "Summary: The Artemis program is a Moon exploration program led by the United States' National Aeronautics and Space Administration (NASA), formally established in 2017 via Space Policy Directive 1. It is intended to reestablish a human presence on the Moon for the first time since the Apollo 17 mission in 1972. The program's stated long-term goal is to establish a permanent base on the Moon to facilitate human missions to Mars.\n",
      "Two principal elements of the Artemis program are derived from the now-cancelled Constellation program: the Orion spacecraft and the Space Launch System (SLS) (as a reincarnation of Ares V). Other elements of the program, such as the Lunar Gateway space station and the Human Landing System, are in development by government space agencies and private spaceflight companies, collaborations bound by the Artemis Accords and governmental contracts.\n",
      "The Space Launch System, Orion spacecraft and the Human Landing System form the main spaceflight infrastructure for Artemis, and the Lunar Gateway plays a supporting role in human habitation. Supporting infrastructures for Artemis include the Commercial Lunar Payload Services, development of ground infrastructures, Artemis Base Camp on the Moon, Moon rovers, and spacesuits. Some aspects of the program have been criticized, such as the use of a near-rectilinear halo orbit and the program's sustainability.\n",
      "Orion's first launch on the Space Launch System was originally set in 2016, but faced numerous delays; it launched on 16 November 2022 as the Artemis 1 mission, with robots and mannequins aboard. According to plan, the crewed Artemis 2 launch is expected to take place in late 2025, the Artemis 3 crewed lunar landing is scheduled for late 2026, the Artemis 4 docking with the Lunar Gateway in late 2028, the Artemis 5 docking with the European Space Agency's ESPRIT, Canada's Canadarm3, and NASA's Lunar Terrain Vehicle in early 2030, and the Artemis 6 docking which is expected to integrate the Crew and Science Airlock with the Lunar Gateway station in early 2031. After Artemis 6, NASA plans yearly landings on the Moon from then on.\n",
      "\n",
      "Page: Artemis\n",
      "Summary: In ancient Greek religion and mythology, Artemis (; Greek: Ἄρτεμις) is the goddess of the hunt, the wilderness, wild animals, nature, vegetation, childbirth, care of children, and chastity. In later times, she was identified with Selene, the personification of the Moon. She was often said to roam the forests and mountains, attended by her entourage of nymphs. The goddess Diana is her Roman equivalent.\n",
      "In Greek tradition, Artemis is the daughter of Zeus and Leto, and twin sister of Apollo. In most accounts, the twins are the products of an extramarital liaison. For this, Zeus' wife Hera forbade Leto from giving birth anywhere on solid land. Only the island of Delos gave refuge to Leto, allowing her to give birth to her children. In most accounts, Artemis is born first and then proceeds to assist Leto in the birth of the second twin, Apollo. Artemis was a kourotrophic (child-nurturing) deity, that is the patron and protector of young children, especially young girls. Artemis was worshipped as one of the primary goddesses of childbirth and midwifery along with Eileithyia and Hera. \n",
      "Artemis was also a patron of healing and disease, particularly among women and children, and believed to send both good health and illness upon women and children. \n",
      "Artemis was one of the three major virgin goddesses, alongside Athena and Hestia. Artemis preferred to remain an unmarried maiden and was one of the three Greek goddesses over whom Aphrodite had no power.\n",
      "In myth and literature, Artemis is presented as a hunting goddess of the woods, surrounded by her chaste band of nymphs. In the myth of Actaeon, when the young hunter sees her bathing naked, he is transformed into a deer by the angered goddess and is then devoured by his own hunting dogs, who do not recognize their master. In the story of Callisto, the girl is driven away from Artemis' company after breaking her vow of virginity, having lain with and been impregnated by Zeus. In the Epic tradition, Artemis halted the winds blowing the Greek ships during the Trojan War, stranding the Greek fleet in Aulis, after King Agamemnon, the leader of the expedition, shot and killed her sacred deer. Artemis demanded the sacrifice of Iphigenia, Agamemnon's young daughter, as compensation for her slain deer. In most versions, when Iphigenia is led to the altar to be offered as a sacrifice, Artemis pities her and takes her away, leaving a deer in her place. In the war that followed, Artemis supported the Trojans against the Greeks, and she challenged Hera in battle.\n",
      "Artemis was one of the most widely venerated of the Ancient Greek deities; her worship spread throughout ancient Greece, with her multiple temples, altars, shrines, and local veneration found everywhere in the ancient world. Her great temple at Ephesus was one of the Seven Wonders of the Ancient World, before it was burnt to the ground. Artemis' symbols included a bow and arrow, a quiver, and hunting knives, and the deer and the cypress were sacred to her. Diana, her Roman equivalent, was especially worshipped on the Aventine Hill in Rome, near Lake Nemi in the Alban Hills, and in Campania.\u001b[0m\u001b[32;1m\u001b[1;3mArtemis 2 is planned to perform a flyby of the Moon and return to Earth. It will not be landing on the Moon but will orbit around it as part of the mission objectives.\u001b[0m\n",
      "\n",
      "\u001b[1m> Finished chain.\u001b[0m\n"
     ]
    },
    {
     "data": {
      "text/plain": [
       "{'input': 'where is the artemis 2 going to land on moon?',\n",
       " 'chat_history': [HumanMessage(content='my name is bob'),\n",
       "  AIMessage(content='Hello Bob! How can I assist you today?'),\n",
       "  HumanMessage(content='whats my name'),\n",
       "  AIMessage(content='Your name is Bob. How can I assist you today, Bob?'),\n",
       "  HumanMessage(content='what is artemis 1 mission?'),\n",
       "  AIMessage(content=\"Artemis 1, officially known as Artemis I and formerly Exploration Mission-1 (EM-1), was an uncrewed Moon-orbiting mission that marked NASA's return to lunar exploration after the conclusion of the Apollo program. It was the first integrated flight test of the Orion spacecraft and Space Launch System (SLS) rocket. The main objective of Artemis 1 was to test the Orion spacecraft, especially its heat shield, in preparation for subsequent Artemis missions. The mission aimed to reestablish a human presence on the Moon and demonstrate technologies needed for future scientific studies, including exploration of Mars.\\n\\nArtemis 1 was launched on November 16, 2022, from Launch Complex 39B at the Kennedy Space Center. After reaching Earth orbit, the upper stage carrying the Orion spacecraft separated and performed a trans-lunar injection before releasing Orion and deploying ten CubeSat satellites. Orion completed two flybys of the Moon before returning to Earth and splashing down in the Pacific Ocean on December 11. The success of Artemis 1 paves the way for crewed flights, starting with Artemis 2, which is scheduled for no earlier than September 2025. Artemis 3 will involve a crewed lunar landing, the first in five decades since Apollo 17.\"),\n",
       "  HumanMessage(content='when was it launched?'),\n",
       "  AIMessage(content='Artemis 1, also known as Exploration Mission-1 (EM-1), was launched on November 16, 2022.'),\n",
       "  HumanMessage(content='what is the next phase in the mission?'),\n",
       "  AIMessage(content='The next phase in the Artemis mission series is Artemis 2. Artemis 2 will be a crewed mission that follows the uncrewed Artemis 1 mission. The main objective of Artemis 2 is to send astronauts on a mission around the Moon. This mission will serve as a test for the Orion spacecraft and the Space Launch System (SLS) rocket with a crew on board. Artemis 2 is scheduled for launch no earlier than September 2025. Following Artemis 2, the Artemis 3 mission is planned to be the first crewed lunar landing mission since the Apollo program.'),\n",
       "  HumanMessage(content='when is that happening?'),\n",
       "  AIMessage(content='Artemis 2, the crewed mission around the Moon, is scheduled for launch no earlier than September 2025. The exact date may be subject to change based on mission planning and development.'),\n",
       "  HumanMessage(content='where is the artemis 2 going to land on moon?'),\n",
       "  AIMessage(content='Artemis 2 is planned to perform a flyby of the Moon and return to Earth. It will not be landing on the Moon but will orbit around it as part of the mission objectives.')],\n",
       " 'output': 'Artemis 2 is planned to perform a flyby of the Moon and return to Earth. It will not be landing on the Moon but will orbit around it as part of the mission objectives.'}"
      ]
     },
     "execution_count": 47,
     "metadata": {},
     "output_type": "execute_result"
    }
   ],
   "source": [
    "agent_executor.invoke({\"input\": \"where is the artemis 2 going to land on moon?\"})"
   ]
  },
  {
   "cell_type": "markdown",
   "id": "34b0b511-21d6-4c7e-b4e2-f886bc296997",
   "metadata": {},
   "source": [
    "### Create a chatbot"
   ]
  },
  {
   "cell_type": "code",
   "execution_count": 48,
   "id": "67cb6fdc-ff55-4a7b-8a39-1871006aa990",
   "metadata": {
    "height": 31
   },
   "outputs": [],
   "source": [
    "tools = [search_wikipedia]"
   ]
  },
  {
   "cell_type": "code",
   "execution_count": null,
   "id": "9c1e77e7",
   "metadata": {
    "height": 845
   },
   "outputs": [],
   "source": [
    "import panel as pn  # for creating interactive web-based dashboards \n",
    "pn.extension()\n",
    "import panel as pn\n",
    "import param # provides parameters which are useful for creating dynamic objects that can interact with UI\n",
    "\n",
    "class cbfs(param.Parameterized):\n",
    "    \n",
    "    def __init__(self, tools, **params):\n",
    "        super(cbfs, self).__init__( **params)\n",
    "        self.panels = []\n",
    "        self.functions = [format_tool_to_openai_function(f) for f in tools]\n",
    "        self.model = ChatOpenAI(temperature=0).bind(functions=self.functions)\n",
    "        self.memory = ConversationBufferMemory(return_messages=True,memory_key=\"chat_history\")\n",
    "        self.prompt = ChatPromptTemplate.from_messages([\n",
    "            (\"system\", \"You are helpful but sassy assistant\"),\n",
    "            MessagesPlaceholder(variable_name=\"chat_history\"),\n",
    "            (\"user\", \"{input}\"),\n",
    "            MessagesPlaceholder(variable_name=\"agent_scratchpad\")\n",
    "        ])\n",
    "        self.chain = RunnablePassthrough.assign(\n",
    "            agent_scratchpad = lambda x: format_to_openai_functions(x[\"intermediate_steps\"])\n",
    "        ) | self.prompt | self.model | OpenAIFunctionsAgentOutputParser()\n",
    "        self.qa = AgentExecutor(agent=self.chain, tools=tools, verbose=False, memory=self.memory)\n",
    "    \n",
    "    \n",
    "    \"\"\"\n",
    "    `convchain` is invoked when the user submits a query. it processes the input query \n",
    "     using the `qa` chain, stores the chatbot's response and updates the UI with the user's query \n",
    "     and the chatbot's response. conversation history is updated with each interaction. \n",
    "    \"\"\"   \n",
    "    def convchain(self, query):\n",
    "        if not query:\n",
    "            return\n",
    "        inp.value = ''\n",
    "        result = self.qa.invoke({\"input\": query})\n",
    "        self.answer = result['output'] \n",
    "        self.panels.extend([\n",
    "            pn.Row('User:', pn.pane.Markdown(query, width=450)),\n",
    "            pn.Row('ChatBot:', pn.pane.Markdown(self.answer, width=450, styles={'background-color': '#F6F6F6'}))\n",
    "        ])\n",
    "        return pn.WidgetBox(*self.panels, scroll=True)\n",
    "\n",
    "\n",
    "    def clr_history(self,count=0):\n",
    "        self.chat_history = []\n",
    "        return \n",
    "        \n"
   ]
  },
  {
   "cell_type": "code",
   "execution_count": null,
   "id": "f5fcefc7",
   "metadata": {
    "height": 403
   },
   "outputs": [],
   "source": [
    "cb = cbfs(tools)\n",
    "\n",
    "inp = pn.widgets.TextInput( placeholder='Enter text here…')  # widget for user input where users can type their queries\n",
    "\n",
    "\"\"\"binds the `convchain` method to the TextInput widget, so that chatbot can process \n",
    "the query each time the user submits text.\"\"\"\n",
    "conversation = pn.bind(cb.convchain, inp)   \n",
    "\n",
    "# this defines the layout for conversation tab \n",
    "tab1 = pn.Column(\n",
    "    pn.Row(inp),\n",
    "    pn.layout.Divider(),\n",
    "    pn.panel(conversation,  loading_indicator=True, height=400),\n",
    "    pn.layout.Divider(),\n",
    ")\n",
    "\n",
    "# Main layout of the application\n",
    "dashboard = pn.Column(\n",
    "    pn.Row(pn.pane.Markdown('# QnA_Bot')),\n",
    "    pn.Tabs(('Conversation', tab1))\n",
    ")\n",
    "dashboard"
   ]
  }
 ],
 "metadata": {
  "kernelspec": {
   "display_name": "Python 3 (ipykernel)",
   "language": "python",
   "name": "python3"
  },
  "language_info": {
   "codemirror_mode": {
    "name": "ipython",
    "version": 3
   },
   "file_extension": ".py",
   "mimetype": "text/x-python",
   "name": "python",
   "nbconvert_exporter": "python",
   "pygments_lexer": "ipython3",
   "version": "3.9.19"
  }
 },
 "nbformat": 4,
 "nbformat_minor": 5
}
